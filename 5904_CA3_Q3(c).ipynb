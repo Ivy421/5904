{
 "cells": [
  {
   "cell_type": "code",
   "execution_count": 1,
   "id": "54459c6c",
   "metadata": {},
   "outputs": [],
   "source": [
    "from scipy.io import loadmat\n",
    "import numpy as np\n",
    "import  matplotlib.pyplot as plt\n",
    "import numpy as np\n",
    "from sklearn.cluster import KMeans\n",
    "from scipy.spatial.distance import cdist"
   ]
  },
  {
   "cell_type": "code",
   "execution_count": null,
   "id": "2bb5a33c",
   "metadata": {},
   "outputs": [],
   "source": [
    "### omit class 3 and 4"
   ]
  },
  {
   "cell_type": "code",
   "execution_count": 31,
   "id": "e96e370c",
   "metadata": {},
   "outputs": [
    {
     "name": "stdout",
     "output_type": "stream",
     "text": [
      "columns in file: dict_keys(['__header__', '__version__', '__globals__', 'test_data', 'test_label', 'train_data', 'train_label'])\n"
     ]
    }
   ],
   "source": [
    "## load file\n",
    "whole = loadmat('characters10.mat')\n",
    "print(\"columns in file:\", whole.keys())\n",
    "\n",
    "## get omitted data\n",
    "train_data_whole = whole['train_data']\n",
    "test_data_whole = whole['test_data']\n",
    "train_label_whole = whole['train_label']\n",
    "test_label_whole = whole['test_label']\n",
    "\n",
    "class_3_train_idx = np.where(train_label_whole == 3)\n",
    "class_4_train_idx = np.where(train_label_whole == 4)\n",
    "\n",
    "class_3_test_idx = np.where(test_label_whole == 3)\n",
    "class_4_test_idx = np.where(test_label_whole == 4)\n",
    "\n",
    "omit_tr_idx = np.concatenate((class_3_train_idx[0],class_4_train_idx[0]))\n",
    "omit_te_idx = np.concatenate((class_3_test_idx[0],class_4_test_idx[0]))\n",
    "\n",
    "X_tr = np.delete(train_data_whole, omit_tr_idx, axis=0)\n",
    "X_te = np.delete(test_data_whole, omit_te_idx, axis=0)\n",
    "\n",
    "### standardization\n",
    "X_tr = X_tr/255.0\n",
    "X_te = X_te/255.0\n",
    "\n",
    "Y_tr = np.delete(train_label_whole, omit_tr_idx, axis=0)\n",
    "Y_te = np.delete(test_label_whole, omit_te_idx, axis=0)"
   ]
  },
  {
   "cell_type": "code",
   "execution_count": 32,
   "id": "73af0a9c",
   "metadata": {},
   "outputs": [
    {
     "data": {
      "text/plain": [
       "(False, False)"
      ]
     },
     "execution_count": 32,
     "metadata": {},
     "output_type": "execute_result"
    }
   ],
   "source": [
    "### check omitted data\n",
    "np.any(Y_tr ==4), np.any(Y_te ==3)"
   ]
  },
  {
   "cell_type": "code",
   "execution_count": null,
   "id": "44361f80",
   "metadata": {},
   "outputs": [],
   "source": []
  },
  {
   "cell_type": "markdown",
   "id": "ed0392e0",
   "metadata": {},
   "source": [
    "## c-1)"
   ]
  },
  {
   "cell_type": "code",
   "execution_count": 228,
   "id": "a01a529e",
   "metadata": {},
   "outputs": [],
   "source": [
    "\n",
    "def find_BMU(xi, weights):\n",
    "    BMU_idx = np.argmin(np.linalg.norm(xi-weights))\n",
    "    dis=np.zeros((10,10))\n",
    "    for i in range (weights.shape[0]):\n",
    "        for j in range (weights.shape[1]):\n",
    "            distance = np.linalg.norm(xi-weights[i][j])\n",
    "            dis[i][j] = distance\n",
    "    min_index = np.argmin(dis) \n",
    "    return  np.unravel_index(min_index, dis.shape) \n",
    "\n",
    "def update_weights(xi, weights, BMU_idx, sigma,n):\n",
    "\n",
    "    for i in range (weights.shape[0]):\n",
    "        for j in range ( weights.shape[1] ):\n",
    "            hij = np.exp(-np.linalg.norm([np.array([i,j]) - BMU_idx ],ord =2)**2/(2*sigma**2))\n",
    "            weights[i] += n*hij*(xi-weights[i])\n",
    "    \n",
    "    return weights\n",
    "\n",
    "\n",
    "def label_neuron(neuron_labels, label, BMU_idx):\n",
    "    #label_idx = np.insert ( w_idx,2,label)\n",
    "    #print(label_idx)\n",
    "    neuron_labels[w_idx[0],w_idx[1] , label] +=1 # \n",
    "    #print(neuron_labels[w_idx[0],w_idx[1]])\n",
    "    return neuron_labels"
   ]
  },
  {
   "cell_type": "code",
   "execution_count": 247,
   "id": "2ffadf38",
   "metadata": {},
   "outputs": [
    {
     "name": "stdout",
     "output_type": "stream",
     "text": [
      "[[1. 1. 1. 1. 1. 1. 1. 1. 1. 1.]\n",
      " [8. 8. 8. 8. 8. 8. 8. 8. 8. 8.]\n",
      " [2. 2. 2. 2. 2. 2. 2. 2. 2. 2.]\n",
      " [2. 2. 2. 2. 2. 2. 2. 2. 2. 2.]\n",
      " [7. 7. 7. 7. 7. 7. 7. 7. 7. 7.]\n",
      " [0. 0. 0. 0. 0. 0. 0. 0. 0. 0.]\n",
      " [9. 9. 9. 9. 9. 9. 9. 9. 9. 9.]\n",
      " [9. 9. 9. 9. 9. 9. 9. 9. 9. 9.]\n",
      " [6. 6. 6. 6. 6. 6. 6. 6. 6. 6.]\n",
      " [5. 5. 5. 5. 5. 5. 5. 5. 5. 5.]]\n"
     ]
    }
   ],
   "source": [
    "import random\n",
    "random.seed(155)\n",
    "weights = 0.02* np.random.rand(10,10,784)\n",
    "\n",
    "epoch = 10000\n",
    "neuron_labels = np.zeros((10,10,10))\n",
    "\n",
    "for epoch in range(epoch):\n",
    "    sigma = 5.34*np.exp(-epoch*np.log(18)/2000)\n",
    "    n = 0.1*np.exp(-epoch/1600)\n",
    "    \n",
    "    idx = random.randint(0,2400-1)\n",
    "    xi = X_tr[idx]\n",
    "    ti = Y_tr[idx]\n",
    "\n",
    "    w_idx = find_BMU(xi,weights)\n",
    "    w_idx = np.array(w_idx)\n",
    "    \n",
    "    neuron_labels = label_neuron(neuron_labels, ti,w_idx)\n",
    "    weights = update_weights( xi, weights, w_idx, sigma,n)\n",
    "\n",
    "## geenrate label map of neurons\n",
    "neuron_label_map=np.zeros((10,1))\n",
    "for i in range(10):\n",
    "    single_neuron_label = np.argmax(neuron_labels[i][0])\n",
    "    neuron_label_map[i] = single_neuron_label\n",
    "\n",
    "### labels of neurons\n",
    "neuron_label_map = neuron_label_map * np.ones((1, 10))\n",
    "print(neuron_label_map)"
   ]
  },
  {
   "cell_type": "code",
   "execution_count": 248,
   "id": "665784f1",
   "metadata": {
    "scrolled": true
   },
   "outputs": [
    {
     "data": {
      "image/png": "[encoded data removed]",
      "text/plain": [
       "<Figure size 1500x1500 with 100 Axes>"
      ]
     },
     "metadata": {},
     "output_type": "display_data"
    }
   ],
   "source": [
    "## visualize neurons\n",
    "\n",
    "fig, axes = plt.subplots(10, 10, figsize=(15, 15))\n",
    "for i in range(10):\n",
    "    for j in range(10):\n",
    "        index = i * 10 + j\n",
    "        neu = weights[i][j]*255\n",
    "        axes[i, j].imshow(neu.reshape(28, 28).T, cmap='gray')\n",
    "        axes[i, j].axis('off')\n",
    "\n",
    "# adjust distance\n",
    "plt.subplots_adjust(wspace=0.2, hspace=0.1)\n",
    "plt.show()"
   ]
  },
  {
   "cell_type": "code",
   "execution_count": 249,
   "id": "79b237a1",
   "metadata": {},
   "outputs": [
    {
     "name": "stdout",
     "output_type": "stream",
     "text": [
      "Accuracy: 0.705\n"
     ]
    }
   ],
   "source": [
    "### test model\n",
    "pred_label = np.zeros((X_te.shape[0],1))\n",
    "\n",
    "for te_idx, xi_te in enumerate(X_te):\n",
    "    w_te_idx = find_BMU(xi_te,weights)\n",
    "    pred_label[te_idx] = neuron_label_map[w_te_idx]\n",
    "    \n",
    "## accuracy\n",
    "from sklearn.metrics import accuracy_score\n",
    "\n",
    "accuracy = accuracy_score(Y_te, pred_label)\n",
    "print(\"Accuracy:\", accuracy)"
   ]
  },
  {
   "cell_type": "code",
   "execution_count": null,
   "id": "62b20f70",
   "metadata": {},
   "outputs": [],
   "source": []
  },
  {
   "cell_type": "code",
   "execution_count": 243,
   "id": "4858d55d",
   "metadata": {},
   "outputs": [],
   "source": [
    "#correct_class = 0\n",
    "#for i in range (400):\n",
    "#    if pred_label[i] == Y_te[i]:\n",
    "#        correct_class+=1\n",
    "#acc = correct_class/400\n",
    "#acc"
   ]
  },
  {
   "cell_type": "code",
   "execution_count": null,
   "id": "651baf64",
   "metadata": {},
   "outputs": [],
   "source": []
  }
 ],
 "metadata": {
  "kernelspec": {
   "display_name": "Python 3 (ipykernel)",
   "language": "python",
   "name": "python3"
  },
  "language_info": {
   "codemirror_mode": {
    "name": "ipython",
    "version": 3
   },
   "file_extension": ".py",
   "mimetype": "text/x-python",
   "name": "python",
   "nbconvert_exporter": "python",
   "pygments_lexer": "ipython3",
   "version": "3.8.17"
  }
 },
 "nbformat": 4,
 "nbformat_minor": 5
}
